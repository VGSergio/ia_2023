{
 "cells": [
  {
   "cell_type": "code",
   "execution_count": 1,
   "id": "621900dd-c3b0-483f-9da7-86d3a61b23e9",
   "metadata": {},
   "outputs": [
    {
     "name": "stdout",
     "output_type": "stream",
     "text": [
      "2\n"
     ]
    }
   ],
   "source": [
    "print(2)"
   ]
  },
  {
   "cell_type": "markdown",
   "id": "6103cf7e-b261-4ec8-b19f-eb6e74075a1f",
   "metadata": {},
   "source": [
    "# Titol\n",
    "\n",
    "Text amb **negreta** e \"italica\""
   ]
  },
  {
   "cell_type": "code",
   "execution_count": null,
   "id": "01dffb9d-cf71-4304-9cd5-72ee9a5914c1",
   "metadata": {},
   "outputs": [],
   "source": []
  }
 ],
 "metadata": {
  "kernelspec": {
   "display_name": "Python 3 (ipykernel)",
   "language": "python",
   "name": "python3"
  },
  "language_info": {
   "codemirror_mode": {
    "name": "ipython",
    "version": 3
   },
   "file_extension": ".py",
   "mimetype": "text/x-python",
   "name": "python",
   "nbconvert_exporter": "python",
   "pygments_lexer": "ipython3",
   "version": "3.11.5"
  }
 },
 "nbformat": 4,
 "nbformat_minor": 5
}
